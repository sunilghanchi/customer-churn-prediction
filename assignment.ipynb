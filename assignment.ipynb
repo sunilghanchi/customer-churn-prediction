{
 "cells": [
  {
   "cell_type": "markdown",
   "id": "f58598a1",
   "metadata": {},
   "source": [
    "# Machine Learning Intern Assessment Assignment"
   ]
  },
  {
   "cell_type": "markdown",
   "id": "3a551c71",
   "metadata": {},
   "source": [
    "## Customer Churn Prediction"
   ]
  },
  {
   "cell_type": "markdown",
   "id": "0ed99a4d",
   "metadata": {},
   "source": [
    "### Import Libraries"
   ]
  },
  {
   "cell_type": "code",
   "execution_count": 1,
   "id": "56f7853a",
   "metadata": {},
   "outputs": [],
   "source": [
    "import pandas as pd\n",
    "import numpy as np\n",
    "\n",
    "import matplotlib.pyplot as plt\n",
    "import seaborn as sns\n",
    "\n",
    "from sklearn.preprocessing import LabelEncoder\n",
    "from sklearn.model_selection import train_test_split\n",
    "from sklearn.ensemble import ExtraTreesClassifier \n",
    "from sklearn.model_selection import cross_val_score\n",
    "from sklearn.linear_model import LogisticRegression\n",
    "from sklearn.tree import DecisionTreeClassifier\n",
    "from sklearn.ensemble import RandomForestClassifier\n",
    "from sklearn.neighbors import KNeighborsClassifier\n",
    "from sklearn.naive_bayes import BernoulliNB\n",
    "from sklearn.metrics import mean_absolute_error\n",
    "from sklearn.metrics import mean_squared_error\n",
    "\n",
    "\n",
    "import warnings\n",
    "warnings.filterwarnings('ignore')"
   ]
  },
  {
   "cell_type": "markdown",
   "id": "425f4588",
   "metadata": {},
   "source": [
    "### Meet and Greet Data\n",
    "\n",
    "In this phase we will import csv and analyze it"
   ]
  },
  {
   "cell_type": "code",
   "execution_count": 3,
   "id": "0448d928",
   "metadata": {},
   "outputs": [],
   "source": [
    "customer = pd.read_excel(\"D:\\Data Analysis\\Machine Learning Intern Task\\customer_churn_large_dataset.xlsx\")"
   ]
  },
  {
   "cell_type": "code",
   "execution_count": 4,
   "id": "f572ba16",
   "metadata": {},
   "outputs": [],
   "source": [
    "cust_copy = customer.copy()"
   ]
  },
  {
   "cell_type": "code",
   "execution_count": 5,
   "id": "83daf61c",
   "metadata": {},
   "outputs": [
    {
     "data": {
      "text/html": [
       "<div>\n",
       "<style scoped>\n",
       "    .dataframe tbody tr th:only-of-type {\n",
       "        vertical-align: middle;\n",
       "    }\n",
       "\n",
       "    .dataframe tbody tr th {\n",
       "        vertical-align: top;\n",
       "    }\n",
       "\n",
       "    .dataframe thead th {\n",
       "        text-align: right;\n",
       "    }\n",
       "</style>\n",
       "<table border=\"1\" class=\"dataframe\">\n",
       "  <thead>\n",
       "    <tr style=\"text-align: right;\">\n",
       "      <th></th>\n",
       "      <th>CustomerID</th>\n",
       "      <th>Name</th>\n",
       "      <th>Age</th>\n",
       "      <th>Gender</th>\n",
       "      <th>Location</th>\n",
       "      <th>Subscription_Length_Months</th>\n",
       "      <th>Monthly_Bill</th>\n",
       "      <th>Total_Usage_GB</th>\n",
       "      <th>Churn</th>\n",
       "    </tr>\n",
       "  </thead>\n",
       "  <tbody>\n",
       "    <tr>\n",
       "      <th>0</th>\n",
       "      <td>1</td>\n",
       "      <td>Customer_1</td>\n",
       "      <td>63</td>\n",
       "      <td>Male</td>\n",
       "      <td>Los Angeles</td>\n",
       "      <td>17</td>\n",
       "      <td>73.36</td>\n",
       "      <td>236</td>\n",
       "      <td>0</td>\n",
       "    </tr>\n",
       "    <tr>\n",
       "      <th>1</th>\n",
       "      <td>2</td>\n",
       "      <td>Customer_2</td>\n",
       "      <td>62</td>\n",
       "      <td>Female</td>\n",
       "      <td>New York</td>\n",
       "      <td>1</td>\n",
       "      <td>48.76</td>\n",
       "      <td>172</td>\n",
       "      <td>0</td>\n",
       "    </tr>\n",
       "    <tr>\n",
       "      <th>2</th>\n",
       "      <td>3</td>\n",
       "      <td>Customer_3</td>\n",
       "      <td>24</td>\n",
       "      <td>Female</td>\n",
       "      <td>Los Angeles</td>\n",
       "      <td>5</td>\n",
       "      <td>85.47</td>\n",
       "      <td>460</td>\n",
       "      <td>0</td>\n",
       "    </tr>\n",
       "    <tr>\n",
       "      <th>3</th>\n",
       "      <td>4</td>\n",
       "      <td>Customer_4</td>\n",
       "      <td>36</td>\n",
       "      <td>Female</td>\n",
       "      <td>Miami</td>\n",
       "      <td>3</td>\n",
       "      <td>97.94</td>\n",
       "      <td>297</td>\n",
       "      <td>1</td>\n",
       "    </tr>\n",
       "    <tr>\n",
       "      <th>4</th>\n",
       "      <td>5</td>\n",
       "      <td>Customer_5</td>\n",
       "      <td>46</td>\n",
       "      <td>Female</td>\n",
       "      <td>Miami</td>\n",
       "      <td>19</td>\n",
       "      <td>58.14</td>\n",
       "      <td>266</td>\n",
       "      <td>0</td>\n",
       "    </tr>\n",
       "  </tbody>\n",
       "</table>\n",
       "</div>"
      ],
      "text/plain": [
       "   CustomerID        Name  Age  Gender     Location  \\\n",
       "0           1  Customer_1   63    Male  Los Angeles   \n",
       "1           2  Customer_2   62  Female     New York   \n",
       "2           3  Customer_3   24  Female  Los Angeles   \n",
       "3           4  Customer_4   36  Female        Miami   \n",
       "4           5  Customer_5   46  Female        Miami   \n",
       "\n",
       "   Subscription_Length_Months  Monthly_Bill  Total_Usage_GB  Churn  \n",
       "0                          17         73.36             236      0  \n",
       "1                           1         48.76             172      0  \n",
       "2                           5         85.47             460      0  \n",
       "3                           3         97.94             297      1  \n",
       "4                          19         58.14             266      0  "
      ]
     },
     "execution_count": 5,
     "metadata": {},
     "output_type": "execute_result"
    }
   ],
   "source": [
    "cust_copy.head()"
   ]
  },
  {
   "cell_type": "code",
   "execution_count": 6,
   "id": "6e26911f",
   "metadata": {},
   "outputs": [
    {
     "name": "stdout",
     "output_type": "stream",
     "text": [
      "The shape of customer churn dataset:  (100000, 9)\n",
      "<class 'pandas.core.frame.DataFrame'>\n",
      "RangeIndex: 100000 entries, 0 to 99999\n",
      "Data columns (total 9 columns):\n",
      " #   Column                      Non-Null Count   Dtype  \n",
      "---  ------                      --------------   -----  \n",
      " 0   CustomerID                  100000 non-null  int64  \n",
      " 1   Name                        100000 non-null  object \n",
      " 2   Age                         100000 non-null  int64  \n",
      " 3   Gender                      100000 non-null  object \n",
      " 4   Location                    100000 non-null  object \n",
      " 5   Subscription_Length_Months  100000 non-null  int64  \n",
      " 6   Monthly_Bill                100000 non-null  float64\n",
      " 7   Total_Usage_GB              100000 non-null  int64  \n",
      " 8   Churn                       100000 non-null  int64  \n",
      "dtypes: float64(1), int64(5), object(3)\n",
      "memory usage: 6.9+ MB\n"
     ]
    }
   ],
   "source": [
    "print(\"The shape of customer churn dataset: \", cust_copy.shape)\n",
    "cust_copy.info()"
   ]
  },
  {
   "cell_type": "code",
   "execution_count": 43,
   "id": "f807bc29",
   "metadata": {},
   "outputs": [
    {
     "name": "stdout",
     "output_type": "stream",
     "text": [
      "Sum of all the null values in customer churn dataset: \n",
      " CustomerID                    0\n",
      "Name                          0\n",
      "Age                           0\n",
      "Gender                        0\n",
      "Location                      0\n",
      "Subscription_Length_Months    0\n",
      "Monthly_Bill                  0\n",
      "Total_Usage_GB                0\n",
      "Churn                         0\n",
      "dtype: int64\n"
     ]
    }
   ],
   "source": [
    "print(\"Sum of all the null values in customer churn dataset: \\n\", cust_copy.isnull().sum())"
   ]
  },
  {
   "cell_type": "code",
   "execution_count": 8,
   "id": "fc341830",
   "metadata": {},
   "outputs": [
    {
     "data": {
      "text/plain": [
       "CustomerID                      int64\n",
       "Name                           object\n",
       "Age                             int64\n",
       "Gender                         object\n",
       "Location                       object\n",
       "Subscription_Length_Months      int64\n",
       "Monthly_Bill                  float64\n",
       "Total_Usage_GB                  int64\n",
       "Churn                           int64\n",
       "dtype: object"
      ]
     },
     "execution_count": 8,
     "metadata": {},
     "output_type": "execute_result"
    }
   ],
   "source": [
    "cust_copy.dtypes"
   ]
  },
  {
   "cell_type": "markdown",
   "id": "9e61d74d",
   "metadata": {},
   "source": [
    "### Statistical Paramteres"
   ]
  },
  {
   "cell_type": "code",
   "execution_count": 9,
   "id": "45a6a48a",
   "metadata": {},
   "outputs": [
    {
     "data": {
      "text/html": [
       "<div>\n",
       "<style scoped>\n",
       "    .dataframe tbody tr th:only-of-type {\n",
       "        vertical-align: middle;\n",
       "    }\n",
       "\n",
       "    .dataframe tbody tr th {\n",
       "        vertical-align: top;\n",
       "    }\n",
       "\n",
       "    .dataframe thead th {\n",
       "        text-align: right;\n",
       "    }\n",
       "</style>\n",
       "<table border=\"1\" class=\"dataframe\">\n",
       "  <thead>\n",
       "    <tr style=\"text-align: right;\">\n",
       "      <th></th>\n",
       "      <th>CustomerID</th>\n",
       "      <th>Age</th>\n",
       "      <th>Subscription_Length_Months</th>\n",
       "      <th>Monthly_Bill</th>\n",
       "      <th>Total_Usage_GB</th>\n",
       "      <th>Churn</th>\n",
       "    </tr>\n",
       "  </thead>\n",
       "  <tbody>\n",
       "    <tr>\n",
       "      <th>count</th>\n",
       "      <td>100000.000000</td>\n",
       "      <td>100000.000000</td>\n",
       "      <td>100000.000000</td>\n",
       "      <td>100000.000000</td>\n",
       "      <td>100000.000000</td>\n",
       "      <td>100000.000000</td>\n",
       "    </tr>\n",
       "    <tr>\n",
       "      <th>mean</th>\n",
       "      <td>50000.500000</td>\n",
       "      <td>44.027020</td>\n",
       "      <td>12.490100</td>\n",
       "      <td>65.053197</td>\n",
       "      <td>274.393650</td>\n",
       "      <td>0.497790</td>\n",
       "    </tr>\n",
       "    <tr>\n",
       "      <th>std</th>\n",
       "      <td>28867.657797</td>\n",
       "      <td>15.280283</td>\n",
       "      <td>6.926461</td>\n",
       "      <td>20.230696</td>\n",
       "      <td>130.463063</td>\n",
       "      <td>0.499998</td>\n",
       "    </tr>\n",
       "    <tr>\n",
       "      <th>min</th>\n",
       "      <td>1.000000</td>\n",
       "      <td>18.000000</td>\n",
       "      <td>1.000000</td>\n",
       "      <td>30.000000</td>\n",
       "      <td>50.000000</td>\n",
       "      <td>0.000000</td>\n",
       "    </tr>\n",
       "    <tr>\n",
       "      <th>25%</th>\n",
       "      <td>25000.750000</td>\n",
       "      <td>31.000000</td>\n",
       "      <td>6.000000</td>\n",
       "      <td>47.540000</td>\n",
       "      <td>161.000000</td>\n",
       "      <td>0.000000</td>\n",
       "    </tr>\n",
       "    <tr>\n",
       "      <th>50%</th>\n",
       "      <td>50000.500000</td>\n",
       "      <td>44.000000</td>\n",
       "      <td>12.000000</td>\n",
       "      <td>65.010000</td>\n",
       "      <td>274.000000</td>\n",
       "      <td>0.000000</td>\n",
       "    </tr>\n",
       "    <tr>\n",
       "      <th>75%</th>\n",
       "      <td>75000.250000</td>\n",
       "      <td>57.000000</td>\n",
       "      <td>19.000000</td>\n",
       "      <td>82.640000</td>\n",
       "      <td>387.000000</td>\n",
       "      <td>1.000000</td>\n",
       "    </tr>\n",
       "    <tr>\n",
       "      <th>max</th>\n",
       "      <td>100000.000000</td>\n",
       "      <td>70.000000</td>\n",
       "      <td>24.000000</td>\n",
       "      <td>100.000000</td>\n",
       "      <td>500.000000</td>\n",
       "      <td>1.000000</td>\n",
       "    </tr>\n",
       "  </tbody>\n",
       "</table>\n",
       "</div>"
      ],
      "text/plain": [
       "          CustomerID            Age  Subscription_Length_Months  \\\n",
       "count  100000.000000  100000.000000               100000.000000   \n",
       "mean    50000.500000      44.027020                   12.490100   \n",
       "std     28867.657797      15.280283                    6.926461   \n",
       "min         1.000000      18.000000                    1.000000   \n",
       "25%     25000.750000      31.000000                    6.000000   \n",
       "50%     50000.500000      44.000000                   12.000000   \n",
       "75%     75000.250000      57.000000                   19.000000   \n",
       "max    100000.000000      70.000000                   24.000000   \n",
       "\n",
       "        Monthly_Bill  Total_Usage_GB          Churn  \n",
       "count  100000.000000   100000.000000  100000.000000  \n",
       "mean       65.053197      274.393650       0.497790  \n",
       "std        20.230696      130.463063       0.499998  \n",
       "min        30.000000       50.000000       0.000000  \n",
       "25%        47.540000      161.000000       0.000000  \n",
       "50%        65.010000      274.000000       0.000000  \n",
       "75%        82.640000      387.000000       1.000000  \n",
       "max       100.000000      500.000000       1.000000  "
      ]
     },
     "execution_count": 9,
     "metadata": {},
     "output_type": "execute_result"
    }
   ],
   "source": [
    "cust_copy.describe()"
   ]
  },
  {
   "cell_type": "markdown",
   "id": "5cf6946f",
   "metadata": {},
   "source": [
    "### Correlation of Data"
   ]
  },
  {
   "cell_type": "code",
   "execution_count": 10,
   "id": "99d7c7b6",
   "metadata": {},
   "outputs": [
    {
     "data": {
      "text/html": [
       "<div>\n",
       "<style scoped>\n",
       "    .dataframe tbody tr th:only-of-type {\n",
       "        vertical-align: middle;\n",
       "    }\n",
       "\n",
       "    .dataframe tbody tr th {\n",
       "        vertical-align: top;\n",
       "    }\n",
       "\n",
       "    .dataframe thead th {\n",
       "        text-align: right;\n",
       "    }\n",
       "</style>\n",
       "<table border=\"1\" class=\"dataframe\">\n",
       "  <thead>\n",
       "    <tr style=\"text-align: right;\">\n",
       "      <th></th>\n",
       "      <th>CustomerID</th>\n",
       "      <th>Age</th>\n",
       "      <th>Subscription_Length_Months</th>\n",
       "      <th>Monthly_Bill</th>\n",
       "      <th>Total_Usage_GB</th>\n",
       "      <th>Churn</th>\n",
       "    </tr>\n",
       "  </thead>\n",
       "  <tbody>\n",
       "    <tr>\n",
       "      <th>CustomerID</th>\n",
       "      <td>1.000000</td>\n",
       "      <td>-0.001085</td>\n",
       "      <td>0.005444</td>\n",
       "      <td>0.001265</td>\n",
       "      <td>-0.004025</td>\n",
       "      <td>-0.004586</td>\n",
       "    </tr>\n",
       "    <tr>\n",
       "      <th>Age</th>\n",
       "      <td>-0.001085</td>\n",
       "      <td>1.000000</td>\n",
       "      <td>0.003382</td>\n",
       "      <td>0.001110</td>\n",
       "      <td>0.001927</td>\n",
       "      <td>0.001559</td>\n",
       "    </tr>\n",
       "    <tr>\n",
       "      <th>Subscription_Length_Months</th>\n",
       "      <td>0.005444</td>\n",
       "      <td>0.003382</td>\n",
       "      <td>1.000000</td>\n",
       "      <td>-0.005294</td>\n",
       "      <td>-0.002203</td>\n",
       "      <td>0.002328</td>\n",
       "    </tr>\n",
       "    <tr>\n",
       "      <th>Monthly_Bill</th>\n",
       "      <td>0.001265</td>\n",
       "      <td>0.001110</td>\n",
       "      <td>-0.005294</td>\n",
       "      <td>1.000000</td>\n",
       "      <td>0.003187</td>\n",
       "      <td>-0.000211</td>\n",
       "    </tr>\n",
       "    <tr>\n",
       "      <th>Total_Usage_GB</th>\n",
       "      <td>-0.004025</td>\n",
       "      <td>0.001927</td>\n",
       "      <td>-0.002203</td>\n",
       "      <td>0.003187</td>\n",
       "      <td>1.000000</td>\n",
       "      <td>-0.002842</td>\n",
       "    </tr>\n",
       "    <tr>\n",
       "      <th>Churn</th>\n",
       "      <td>-0.004586</td>\n",
       "      <td>0.001559</td>\n",
       "      <td>0.002328</td>\n",
       "      <td>-0.000211</td>\n",
       "      <td>-0.002842</td>\n",
       "      <td>1.000000</td>\n",
       "    </tr>\n",
       "  </tbody>\n",
       "</table>\n",
       "</div>"
      ],
      "text/plain": [
       "                            CustomerID       Age  Subscription_Length_Months  \\\n",
       "CustomerID                    1.000000 -0.001085                    0.005444   \n",
       "Age                          -0.001085  1.000000                    0.003382   \n",
       "Subscription_Length_Months    0.005444  0.003382                    1.000000   \n",
       "Monthly_Bill                  0.001265  0.001110                   -0.005294   \n",
       "Total_Usage_GB               -0.004025  0.001927                   -0.002203   \n",
       "Churn                        -0.004586  0.001559                    0.002328   \n",
       "\n",
       "                            Monthly_Bill  Total_Usage_GB     Churn  \n",
       "CustomerID                      0.001265       -0.004025 -0.004586  \n",
       "Age                             0.001110        0.001927  0.001559  \n",
       "Subscription_Length_Months     -0.005294       -0.002203  0.002328  \n",
       "Monthly_Bill                    1.000000        0.003187 -0.000211  \n",
       "Total_Usage_GB                  0.003187        1.000000 -0.002842  \n",
       "Churn                          -0.000211       -0.002842  1.000000  "
      ]
     },
     "execution_count": 10,
     "metadata": {},
     "output_type": "execute_result"
    }
   ],
   "source": [
    "cust_copy.corr()"
   ]
  },
  {
   "cell_type": "code",
   "execution_count": 45,
   "id": "beb03f2e",
   "metadata": {},
   "outputs": [
    {
     "data": {
      "image/png": "[encoded data removed]",
      "text/plain": [
       "<Figure size 1200x1000 with 2 Axes>"
      ]
     },
     "metadata": {},
     "output_type": "display_data"
    }
   ],
   "source": [
    "plt.figure(figsize=(12,10))\n",
    "sns.heatmap(cust_copy.corr(), annot=True, cmap='coolwarm')\n",
    "plt.title(\"Correlation of Data\")\n",
    "plt.show()"
   ]
  },
  {
   "cell_type": "markdown",
   "id": "404ee6aa",
   "metadata": {},
   "source": [
    "- In this correlation we can see that mostly are not much correlated with each other "
   ]
  },
  {
   "cell_type": "markdown",
   "id": "ae9817e1",
   "metadata": {},
   "source": [
    "### Feature Engineering"
   ]
  },
  {
   "cell_type": "markdown",
   "id": "2380b56c",
   "metadata": {},
   "source": [
    "#### Handling Outliers"
   ]
  },
  {
   "cell_type": "code",
   "execution_count": 12,
   "id": "0db568aa",
   "metadata": {},
   "outputs": [
    {
     "data": {
      "image/png": "[encoded data removed]",
      "text/plain": [
       "<Figure size 1500x1000 with 4 Axes>"
      ]
     },
     "metadata": {},
     "output_type": "display_data"
    }
   ],
   "source": [
    "fig, ax = plt.subplots(2, 2, figsize=(15,10))\n",
    "ax[0, 0].boxplot(cust_copy['Age'])\n",
    "ax[0, 0].set_title('Age')\n",
    "ax[0, 1].boxplot(cust_copy['Subscription_Length_Months'])\n",
    "ax[0, 1].set_title('Subscription Length Months')\n",
    "ax[1, 0].boxplot(cust_copy['Monthly_Bill'])\n",
    "ax[1, 0].set_title('Monthly Bill')\n",
    "ax[1, 1].boxplot(cust_copy['Total_Usage_GB'])\n",
    "ax[1, 1].set_title('Total Usage GB')\n",
    "plt.show()"
   ]
  },
  {
   "cell_type": "markdown",
   "id": "0beb9c41",
   "metadata": {},
   "source": [
    "- We can see that there are not a single outliers in our dataset\n",
    "- So we don't have to remove outliers, procced to enocoding phase "
   ]
  },
  {
   "cell_type": "markdown",
   "id": "bec2a6c1",
   "metadata": {},
   "source": [
    "#### Label Encoding\n",
    "\n",
    "- So we Encode the Gender column with Label encoder"
   ]
  },
  {
   "cell_type": "code",
   "execution_count": 13,
   "id": "4cbeda5c",
   "metadata": {},
   "outputs": [],
   "source": [
    "le = LabelEncoder()\n",
    "cust_copy['Gender'] = le.fit_transform(cust_copy['Gender'])"
   ]
  },
  {
   "cell_type": "code",
   "execution_count": 14,
   "id": "3f78460b",
   "metadata": {},
   "outputs": [],
   "source": [
    "# cust_copy['Gender'] = cust_copy['Gender'].map({'Male':0, 'Female':1})"
   ]
  },
  {
   "cell_type": "markdown",
   "id": "f3cb0a6b",
   "metadata": {},
   "source": [
    "#### Encode through Mapping\n",
    "\n",
    "- In this phase we encode location column through mapping\n",
    "- For this we find out unique values of it\n",
    "- Mapping enocding is efficient method for encoding"
   ]
  },
  {
   "cell_type": "code",
   "execution_count": 15,
   "id": "f4e8681c",
   "metadata": {},
   "outputs": [
    {
     "data": {
      "text/plain": [
       "array(['Los Angeles', 'New York', 'Miami', 'Chicago', 'Houston'],\n",
       "      dtype=object)"
      ]
     },
     "execution_count": 15,
     "metadata": {},
     "output_type": "execute_result"
    }
   ],
   "source": [
    "cust_copy.Location.unique()"
   ]
  },
  {
   "cell_type": "code",
   "execution_count": 16,
   "id": "337fe72d",
   "metadata": {},
   "outputs": [],
   "source": [
    "cust_copy['Location'] = cust_copy['Location'].map({'Los Angeles':0, 'New York':1, 'Miami':2, 'Chicago':3, 'Houston':4})"
   ]
  },
  {
   "cell_type": "code",
   "execution_count": 17,
   "id": "645b5428",
   "metadata": {},
   "outputs": [
    {
     "data": {
      "text/html": [
       "<div>\n",
       "<style scoped>\n",
       "    .dataframe tbody tr th:only-of-type {\n",
       "        vertical-align: middle;\n",
       "    }\n",
       "\n",
       "    .dataframe tbody tr th {\n",
       "        vertical-align: top;\n",
       "    }\n",
       "\n",
       "    .dataframe thead th {\n",
       "        text-align: right;\n",
       "    }\n",
       "</style>\n",
       "<table border=\"1\" class=\"dataframe\">\n",
       "  <thead>\n",
       "    <tr style=\"text-align: right;\">\n",
       "      <th></th>\n",
       "      <th>CustomerID</th>\n",
       "      <th>Name</th>\n",
       "      <th>Age</th>\n",
       "      <th>Gender</th>\n",
       "      <th>Location</th>\n",
       "      <th>Subscription_Length_Months</th>\n",
       "      <th>Monthly_Bill</th>\n",
       "      <th>Total_Usage_GB</th>\n",
       "      <th>Churn</th>\n",
       "    </tr>\n",
       "  </thead>\n",
       "  <tbody>\n",
       "    <tr>\n",
       "      <th>0</th>\n",
       "      <td>1</td>\n",
       "      <td>Customer_1</td>\n",
       "      <td>63</td>\n",
       "      <td>1</td>\n",
       "      <td>0</td>\n",
       "      <td>17</td>\n",
       "      <td>73.36</td>\n",
       "      <td>236</td>\n",
       "      <td>0</td>\n",
       "    </tr>\n",
       "    <tr>\n",
       "      <th>1</th>\n",
       "      <td>2</td>\n",
       "      <td>Customer_2</td>\n",
       "      <td>62</td>\n",
       "      <td>0</td>\n",
       "      <td>1</td>\n",
       "      <td>1</td>\n",
       "      <td>48.76</td>\n",
       "      <td>172</td>\n",
       "      <td>0</td>\n",
       "    </tr>\n",
       "    <tr>\n",
       "      <th>2</th>\n",
       "      <td>3</td>\n",
       "      <td>Customer_3</td>\n",
       "      <td>24</td>\n",
       "      <td>0</td>\n",
       "      <td>0</td>\n",
       "      <td>5</td>\n",
       "      <td>85.47</td>\n",
       "      <td>460</td>\n",
       "      <td>0</td>\n",
       "    </tr>\n",
       "    <tr>\n",
       "      <th>3</th>\n",
       "      <td>4</td>\n",
       "      <td>Customer_4</td>\n",
       "      <td>36</td>\n",
       "      <td>0</td>\n",
       "      <td>2</td>\n",
       "      <td>3</td>\n",
       "      <td>97.94</td>\n",
       "      <td>297</td>\n",
       "      <td>1</td>\n",
       "    </tr>\n",
       "    <tr>\n",
       "      <th>4</th>\n",
       "      <td>5</td>\n",
       "      <td>Customer_5</td>\n",
       "      <td>46</td>\n",
       "      <td>0</td>\n",
       "      <td>2</td>\n",
       "      <td>19</td>\n",
       "      <td>58.14</td>\n",
       "      <td>266</td>\n",
       "      <td>0</td>\n",
       "    </tr>\n",
       "  </tbody>\n",
       "</table>\n",
       "</div>"
      ],
      "text/plain": [
       "   CustomerID        Name  Age  Gender  Location  Subscription_Length_Months  \\\n",
       "0           1  Customer_1   63       1         0                          17   \n",
       "1           2  Customer_2   62       0         1                           1   \n",
       "2           3  Customer_3   24       0         0                           5   \n",
       "3           4  Customer_4   36       0         2                           3   \n",
       "4           5  Customer_5   46       0         2                          19   \n",
       "\n",
       "   Monthly_Bill  Total_Usage_GB  Churn  \n",
       "0         73.36             236      0  \n",
       "1         48.76             172      0  \n",
       "2         85.47             460      0  \n",
       "3         97.94             297      1  \n",
       "4         58.14             266      0  "
      ]
     },
     "execution_count": 17,
     "metadata": {},
     "output_type": "execute_result"
    }
   ],
   "source": [
    "cust_copy.head()"
   ]
  },
  {
   "cell_type": "markdown",
   "id": "a8ac8f4c",
   "metadata": {},
   "source": [
    "- So we encode all the necessary columns, now move forward"
   ]
  },
  {
   "cell_type": "markdown",
   "id": "62a0ed9f",
   "metadata": {},
   "source": [
    "#### Feature Selection\n",
    "\n",
    "- First, we’ll find out which feature are most important for our model to work well. Then, we’ll\n",
    "remove any unnecessary feature to make our model perform even better."
   ]
  },
  {
   "cell_type": "code",
   "execution_count": 18,
   "id": "eb69ee2d",
   "metadata": {},
   "outputs": [],
   "source": [
    "x = cust_copy.drop(['Name', 'CustomerID', 'Churn'], axis=1)\n",
    "y = cust_copy['Churn']"
   ]
  },
  {
   "cell_type": "code",
   "execution_count": 19,
   "id": "9f037d22",
   "metadata": {},
   "outputs": [
    {
     "data": {
      "text/html": [
       "<style>#sk-container-id-1 {color: black;background-color: white;}#sk-container-id-1 pre{padding: 0;}#sk-container-id-1 div.sk-toggleable {background-color: white;}#sk-container-id-1 label.sk-toggleable__label {cursor: pointer;display: block;width: 100%;margin-bottom: 0;padding: 0.3em;box-sizing: border-box;text-align: center;}#sk-container-id-1 label.sk-toggleable__label-arrow:before {content: \"▸\";float: left;margin-right: 0.25em;color: #696969;}#sk-container-id-1 label.sk-toggleable__label-arrow:hover:before {color: black;}#sk-container-id-1 div.sk-estimator:hover label.sk-toggleable__label-arrow:before {color: black;}#sk-container-id-1 div.sk-toggleable__content {max-height: 0;max-width: 0;overflow: hidden;text-align: left;background-color: #f0f8ff;}#sk-container-id-1 div.sk-toggleable__content pre {margin: 0.2em;color: black;border-radius: 0.25em;background-color: #f0f8ff;}#sk-container-id-1 input.sk-toggleable__control:checked~div.sk-toggleable__content {max-height: 200px;max-width: 100%;overflow: auto;}#sk-container-id-1 input.sk-toggleable__control:checked~label.sk-toggleable__label-arrow:before {content: \"▾\";}#sk-container-id-1 div.sk-estimator input.sk-toggleable__control:checked~label.sk-toggleable__label {background-color: #d4ebff;}#sk-container-id-1 div.sk-label input.sk-toggleable__control:checked~label.sk-toggleable__label {background-color: #d4ebff;}#sk-container-id-1 input.sk-hidden--visually {border: 0;clip: rect(1px 1px 1px 1px);clip: rect(1px, 1px, 1px, 1px);height: 1px;margin: -1px;overflow: hidden;padding: 0;position: absolute;width: 1px;}#sk-container-id-1 div.sk-estimator {font-family: monospace;background-color: #f0f8ff;border: 1px dotted black;border-radius: 0.25em;box-sizing: border-box;margin-bottom: 0.5em;}#sk-container-id-1 div.sk-estimator:hover {background-color: #d4ebff;}#sk-container-id-1 div.sk-parallel-item::after {content: \"\";width: 100%;border-bottom: 1px solid gray;flex-grow: 1;}#sk-container-id-1 div.sk-label:hover label.sk-toggleable__label {background-color: #d4ebff;}#sk-container-id-1 div.sk-serial::before {content: \"\";position: absolute;border-left: 1px solid gray;box-sizing: border-box;top: 0;bottom: 0;left: 50%;z-index: 0;}#sk-container-id-1 div.sk-serial {display: flex;flex-direction: column;align-items: center;background-color: white;padding-right: 0.2em;padding-left: 0.2em;position: relative;}#sk-container-id-1 div.sk-item {position: relative;z-index: 1;}#sk-container-id-1 div.sk-parallel {display: flex;align-items: stretch;justify-content: center;background-color: white;position: relative;}#sk-container-id-1 div.sk-item::before, #sk-container-id-1 div.sk-parallel-item::before {content: \"\";position: absolute;border-left: 1px solid gray;box-sizing: border-box;top: 0;bottom: 0;left: 50%;z-index: -1;}#sk-container-id-1 div.sk-parallel-item {display: flex;flex-direction: column;z-index: 1;position: relative;background-color: white;}#sk-container-id-1 div.sk-parallel-item:first-child::after {align-self: flex-end;width: 50%;}#sk-container-id-1 div.sk-parallel-item:last-child::after {align-self: flex-start;width: 50%;}#sk-container-id-1 div.sk-parallel-item:only-child::after {width: 0;}#sk-container-id-1 div.sk-dashed-wrapped {border: 1px dashed gray;margin: 0 0.4em 0.5em 0.4em;box-sizing: border-box;padding-bottom: 0.4em;background-color: white;}#sk-container-id-1 div.sk-label label {font-family: monospace;font-weight: bold;display: inline-block;line-height: 1.2em;}#sk-container-id-1 div.sk-label-container {text-align: center;}#sk-container-id-1 div.sk-container {/* jupyter's `normalize.less` sets `[hidden] { display: none; }` but bootstrap.min.css set `[hidden] { display: none !important; }` so we also need the `!important` here to be able to override the default hidden behavior on the sphinx rendered scikit-learn.org. See: https://github.com/scikit-learn/scikit-learn/issues/21755 */display: inline-block !important;position: relative;}#sk-container-id-1 div.sk-text-repr-fallback {display: none;}</style><div id=\"sk-container-id-1\" class=\"sk-top-container\"><div class=\"sk-text-repr-fallback\"><pre>ExtraTreesClassifier()</pre><b>In a Jupyter environment, please rerun this cell to show the HTML representation or trust the notebook. <br />On GitHub, the HTML representation is unable to render, please try loading this page with nbviewer.org.</b></div><div class=\"sk-container\" hidden><div class=\"sk-item\"><div class=\"sk-estimator sk-toggleable\"><input class=\"sk-toggleable__control sk-hidden--visually\" id=\"sk-estimator-id-1\" type=\"checkbox\" checked><label for=\"sk-estimator-id-1\" class=\"sk-toggleable__label sk-toggleable__label-arrow\">ExtraTreesClassifier</label><div class=\"sk-toggleable__content\"><pre>ExtraTreesClassifier()</pre></div></div></div></div></div>"
      ],
      "text/plain": [
       "ExtraTreesClassifier()"
      ]
     },
     "execution_count": 19,
     "metadata": {},
     "output_type": "execute_result"
    }
   ],
   "source": [
    "et = ExtraTreesClassifier()\n",
    "et.fit(x,y)"
   ]
  },
  {
   "cell_type": "code",
   "execution_count": 20,
   "id": "0c5ea7ac",
   "metadata": {},
   "outputs": [
    {
     "data": {
      "image/png": "[encoded data removed]",
      "text/plain": [
       "<Figure size 640x480 with 1 Axes>"
      ]
     },
     "metadata": {},
     "output_type": "display_data"
    }
   ],
   "source": [
    "feature_imp = pd.Series(et.feature_importances_, index=x.columns)\n",
    "feature_imp.nlargest(6).plot(kind='barh')\n",
    "plt.show()"
   ]
  },
  {
   "cell_type": "markdown",
   "id": "a9c333c8",
   "metadata": {},
   "source": [
    "- From the bar plot we can see the importances of features based on it’s impact towards output.\n",
    "- Let’s take up the top 6 features, and from that we select 4"
   ]
  },
  {
   "cell_type": "markdown",
   "id": "88b887ee",
   "metadata": {},
   "source": [
    "### Train Test Split"
   ]
  },
  {
   "cell_type": "markdown",
   "id": "596418f6",
   "metadata": {},
   "source": [
    "- Let’s drop the required and split the data into train and test"
   ]
  },
  {
   "cell_type": "code",
   "execution_count": 21,
   "id": "be2ff4f7",
   "metadata": {},
   "outputs": [],
   "source": [
    "x = cust_copy.drop(['Name', 'CustomerID', 'Gender', 'Location', 'Churn'], axis=1)\n",
    "y = cust_copy['Churn']"
   ]
  },
  {
   "cell_type": "code",
   "execution_count": 22,
   "id": "8b96d8b9",
   "metadata": {},
   "outputs": [],
   "source": [
    "x_train,x_test,y_train,y_test=train_test_split(x,y,train_size=.8, random_state=124587)"
   ]
  },
  {
   "cell_type": "code",
   "execution_count": 23,
   "id": "09e2a928",
   "metadata": {},
   "outputs": [
    {
     "data": {
      "text/plain": [
       "80000"
      ]
     },
     "execution_count": 23,
     "metadata": {},
     "output_type": "execute_result"
    }
   ],
   "source": [
    "len(x_train)"
   ]
  },
  {
   "cell_type": "code",
   "execution_count": 24,
   "id": "e06ef9e9",
   "metadata": {},
   "outputs": [
    {
     "data": {
      "text/plain": [
       "20000"
      ]
     },
     "execution_count": 24,
     "metadata": {},
     "output_type": "execute_result"
    }
   ],
   "source": [
    "len(x_test)"
   ]
  },
  {
   "cell_type": "markdown",
   "id": "4ddeac57",
   "metadata": {},
   "source": [
    "### Model Selection\n",
    "\n",
    "- Let’s do the process and select the best model"
   ]
  },
  {
   "cell_type": "code",
   "execution_count": 25,
   "id": "07f1c530",
   "metadata": {},
   "outputs": [
    {
     "name": "stdout",
     "output_type": "stream",
     "text": [
      "Logistic Regression Test Accuracy: 0.50011\n",
      "Decision Tree Classifier Test Accuracy: 0.5027699999999999\n",
      "Random Forest Classifier Test Accuracy: 0.50038\n",
      "KNeighbour Classifier Test Accuracy: 0.50205\n",
      "Bernoulib Test Accuracy: 0.50221\n"
     ]
    }
   ],
   "source": [
    "lr_cv = LogisticRegression(random_state=0)\n",
    "dt_cv = DecisionTreeClassifier()\n",
    "rf_cv = RandomForestClassifier()\n",
    "kn_cv = KNeighborsClassifier()\n",
    "bn_cv = BernoulliNB()\n",
    "\n",
    "cv_dict = {0: 'Logistic Regression', 1: 'Decision Tree Classifier', 2: 'Random Forest Classifier', 3:'KNeighbour Classifier', 4:'Bernoulib'}\n",
    "\n",
    "cv_model = [lr_cv, dt_cv, rf_cv, kn_cv, bn_cv]\n",
    "\n",
    "for i,model in enumerate(cv_model):\n",
    "    \n",
    "    score = cross_val_score(model, x, y, cv=10, scoring='accuracy').mean()\n",
    "                    \n",
    "    print(\"{} Test Accuracy: {}\".format(cv_dict[i], score))"
   ]
  },
  {
   "cell_type": "markdown",
   "id": "45b99127",
   "metadata": {},
   "source": [
    "####  Logistic Regression with Hypyerparameter tuning\n",
    "\n",
    "- Let’s fit the model in Logistic Regression to figure out Accuracy of our mode"
   ]
  },
  {
   "cell_type": "code",
   "execution_count": 29,
   "id": "4e095e81",
   "metadata": {},
   "outputs": [
    {
     "name": "stdout",
     "output_type": "stream",
     "text": [
      "LogisticRegression(C=0.0020235896477251557, random_state=0)\n",
      "The mean accuracy of the model is: 0.50275\n"
     ]
    }
   ],
   "source": [
    "from sklearn.model_selection import GridSearchCV\n",
    "param_grid = {'C': np.logspace(-4, 4, 50), 'penalty':['l1','l2']}\n",
    "clf = GridSearchCV(LogisticRegression(random_state=0), param_grid,cv=5,verbose=0,n_jobs=-1)\n",
    "best_model = clf.fit(x_train,y_train)\n",
    "print(best_model.best_estimator_)\n",
    "print(\"The mean accuracy of the model is:\",best_model.score(x_test,y_test))"
   ]
  },
  {
   "cell_type": "markdown",
   "id": "aecff009",
   "metadata": {},
   "source": [
    "- The accuracy of this model is not much, let's try more"
   ]
  },
  {
   "cell_type": "code",
   "execution_count": 32,
   "id": "fcc13051",
   "metadata": {},
   "outputs": [
    {
     "data": {
      "text/plain": [
       "0.5042125"
      ]
     },
     "execution_count": 32,
     "metadata": {},
     "output_type": "execute_result"
    }
   ],
   "source": [
    "lr = LogisticRegression(C=0.0020235896477251557, random_state=0)\n",
    "lr.fit(x_train,y_train)\n",
    "lr_predict = lr.predict(x_test)\n",
    "lr.score(x_train,y_train)"
   ]
  },
  {
   "cell_type": "code",
   "execution_count": 38,
   "id": "1c9074ee",
   "metadata": {},
   "outputs": [
    {
     "name": "stdout",
     "output_type": "stream",
     "text": [
      "Logistic Regrssion Mean Absolute Error:  0.49725\n",
      "Logistic Regrssion Mean Square Error:  0.49725\n",
      "Logistic Regrssion Test Score:  0.50275\n"
     ]
    }
   ],
   "source": [
    "print(\"Logistic Regrssion Mean Absolute Error: \", mean_absolute_error(y_test,lr_predict))\n",
    "print(\"Logistic Regrssion Mean Square Error: \", mean_squared_error(y_test,lr_predict))\n",
    "print(\"Logistic Regrssion Test Score: \", lr.score(x_test,y_test))"
   ]
  },
  {
   "cell_type": "markdown",
   "id": "e4a2f645",
   "metadata": {},
   "source": [
    "#### Decision Tree Classifier"
   ]
  },
  {
   "cell_type": "code",
   "execution_count": 31,
   "id": "2ce8a7c4",
   "metadata": {},
   "outputs": [
    {
     "data": {
      "text/plain": [
       "0.9999875"
      ]
     },
     "execution_count": 31,
     "metadata": {},
     "output_type": "execute_result"
    }
   ],
   "source": [
    "dt = DecisionTreeClassifier()\n",
    "dt.fit(x_train,y_train)\n",
    "dt_predict = dt.predict(x_test)\n",
    "dt.score(x_train,y_train)"
   ]
  },
  {
   "cell_type": "code",
   "execution_count": 37,
   "id": "2427ffb1",
   "metadata": {},
   "outputs": [
    {
     "name": "stdout",
     "output_type": "stream",
     "text": [
      "Decision Tree Classifier Mean Absolute Error:  0.4896\n",
      "Decision Tree Classifier Mean Square Error:  0.4896\n",
      "Decision Tree Classifier Test Score:  0.5104\n"
     ]
    }
   ],
   "source": [
    "print(\"Decision Tree Classifier Mean Absolute Error: \", mean_absolute_error(y_test,dt_predict))\n",
    "print(\"Decision Tree Classifier Mean Square Error: \", mean_squared_error(y_test,dt_predict))\n",
    "print(\"Decision Tree Classifier Test Score: \", dt.score(x_test,y_test))"
   ]
  },
  {
   "cell_type": "markdown",
   "id": "24331e01",
   "metadata": {},
   "source": [
    "#### Random Forest Classifier"
   ]
  },
  {
   "cell_type": "code",
   "execution_count": 33,
   "id": "660c4123",
   "metadata": {},
   "outputs": [
    {
     "data": {
      "text/plain": [
       "0.9999875"
      ]
     },
     "execution_count": 33,
     "metadata": {},
     "output_type": "execute_result"
    }
   ],
   "source": [
    "rf = RandomForestClassifier()\n",
    "rf.fit(x_train,y_train)\n",
    "rf_predict = rf.predict(x_test)\n",
    "rf.score(x_train,y_train)"
   ]
  },
  {
   "cell_type": "code",
   "execution_count": 39,
   "id": "5de24009",
   "metadata": {},
   "outputs": [
    {
     "name": "stdout",
     "output_type": "stream",
     "text": [
      "Random Forest Classifier Mean Absolute Error:  0.50035\n",
      "Random Forest Classifier Mean Square Error:  0.50035\n",
      "Random Forest Classifier Test Score:  0.49965\n"
     ]
    }
   ],
   "source": [
    "print(\"Random Forest Classifier Mean Absolute Error: \", mean_absolute_error(y_test,rf_predict))\n",
    "print(\"Random Forest Classifier Mean Square Error: \", mean_squared_error(y_test,rf_predict))\n",
    "print(\"Random Forest Classifier Test Score: \", rf.score(x_test,y_test))"
   ]
  },
  {
   "cell_type": "markdown",
   "id": "67fe0951",
   "metadata": {},
   "source": [
    "#### KNeighbour Classifier"
   ]
  },
  {
   "cell_type": "code",
   "execution_count": 34,
   "id": "371c2c1d",
   "metadata": {},
   "outputs": [
    {
     "data": {
      "text/plain": [
       "0.6842375"
      ]
     },
     "execution_count": 34,
     "metadata": {},
     "output_type": "execute_result"
    }
   ],
   "source": [
    "kn = KNeighborsClassifier()\n",
    "kn.fit(x_train,y_train)\n",
    "kn_predict = kn.predict(x_test)\n",
    "kn.score(x_train,y_train)"
   ]
  },
  {
   "cell_type": "code",
   "execution_count": 40,
   "id": "c8a4130a",
   "metadata": {},
   "outputs": [
    {
     "name": "stdout",
     "output_type": "stream",
     "text": [
      "KNeighbour Classifier Mean Absolute Error:  0.4914\n",
      "KNeighbour Classifier Mean Square Error:  0.4914\n",
      "KNeighbour Classifier Test Score:  0.5086\n"
     ]
    }
   ],
   "source": [
    "print(\"KNeighbour Classifier Mean Absolute Error: \", mean_absolute_error(y_test,kn_predict))\n",
    "print(\"KNeighbour Classifier Mean Square Error: \", mean_squared_error(y_test,kn_predict))\n",
    "print(\"KNeighbour Classifier Test Score: \", kn.score(x_test,y_test))"
   ]
  },
  {
   "cell_type": "markdown",
   "id": "629f07c8",
   "metadata": {},
   "source": [
    "#### BernoulliNB Classifier"
   ]
  },
  {
   "cell_type": "code",
   "execution_count": 35,
   "id": "27ca3ee3",
   "metadata": {},
   "outputs": [
    {
     "data": {
      "text/plain": [
       "0.501175"
      ]
     },
     "execution_count": 35,
     "metadata": {},
     "output_type": "execute_result"
    }
   ],
   "source": [
    "bn = BernoulliNB()\n",
    "bn.fit(x_train,y_train)\n",
    "bn_predict = bn.predict(x_test)\n",
    "bn.score(x_train,y_train)"
   ]
  },
  {
   "cell_type": "code",
   "execution_count": 41,
   "id": "00468877",
   "metadata": {},
   "outputs": [
    {
     "name": "stdout",
     "output_type": "stream",
     "text": [
      "Bernoulib Classifier Mean Absolute Error:  0.49365\n",
      "Bernoulib Classifier Mean Square Error:  0.49365\n",
      "Bernoulib Classifier Test Score:  0.50635\n"
     ]
    }
   ],
   "source": [
    "print(\"Bernoulib Classifier Mean Absolute Error: \", mean_absolute_error(y_test,bn_predict))\n",
    "print(\"Bernoulib Classifier Mean Square Error: \", mean_squared_error(y_test,bn_predict))\n",
    "print(\"Bernoulib Classifier Test Score: \", bn.score(x_test,y_test))"
   ]
  },
  {
   "cell_type": "markdown",
   "id": "8af2d4f7",
   "metadata": {},
   "source": [
    "- From all of this Decision Tree has best accuracy\n",
    "- So we try that as user input prediction"
   ]
  },
  {
   "cell_type": "markdown",
   "id": "e324032b",
   "metadata": {},
   "source": [
    "### User Input Prediction"
   ]
  },
  {
   "cell_type": "code",
   "execution_count": 42,
   "id": "19d7cac4",
   "metadata": {},
   "outputs": [
    {
     "name": "stdout",
     "output_type": "stream",
     "text": [
      "Enter your age: 63\n",
      "Enter the months of subsciption: 17\n",
      "Enter the bill amount: 73.36\n",
      "Enter the GB used: 236\n",
      "Churn Prediction:  [0]\n"
     ]
    }
   ],
   "source": [
    "def predication():\n",
    "    age = int(input(\"Enter your age: \"))\n",
    "    months = int(input(\"Enter the months of subsciption: \"))\n",
    "    bill = float(input(\"Enter the bill amount: \"))\n",
    "    gb = float(input(\"Enter the GB used: \"))\n",
    "    \n",
    "    col = [age, months, bill, gb]\n",
    "    \n",
    "    dt_pre = dt.predict([col])\n",
    "    \n",
    "    print(\"Churn Prediction: \", dt_pre)\n",
    "    \n",
    "predict = predication()\n",
    "\n",
    "predict"
   ]
  },
  {
   "cell_type": "markdown",
   "id": "45f19482",
   "metadata": {},
   "source": [
    "- It Predicted correct and We built accurate model of Churn Prediction"
   ]
  },
  {
   "cell_type": "markdown",
   "id": "b522f506",
   "metadata": {},
   "source": [
    "### Conclusion"
   ]
  },
  {
   "cell_type": "markdown",
   "id": "b8f3e7eb",
   "metadata": {},
   "source": [
    "After analyzing the data for Churn Predication we can say that Age, Length of Monthly Subscription, Bill Amount, GB used are major feature for prediction of Churn.\n",
    "\n",
    "- For making customer not to churn we have to understand the need of customer\n",
    "- Provide better service to customers\n",
    "- Deliver good quality of service\n",
    "- Continuously Make imporvement in service"
   ]
  }
 ],
 "metadata": {
  "kernelspec": {
   "display_name": "Python 3 (ipykernel)",
   "language": "python",
   "name": "python3"
  },
  "language_info": {
   "codemirror_mode": {
    "name": "ipython",
    "version": 3
   },
   "file_extension": ".py",
   "mimetype": "text/x-python",
   "name": "python",
   "nbconvert_exporter": "python",
   "pygments_lexer": "ipython3",
   "version": "3.11.0"
  }
 },
 "nbformat": 4,
 "nbformat_minor": 5
}
